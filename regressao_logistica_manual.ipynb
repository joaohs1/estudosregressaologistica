{
 "cells": [
  {
   "cell_type": "code",
   "execution_count": 29,
   "metadata": {},
   "outputs": [
    {
     "name": "stdout",
     "output_type": "stream",
     "text": [
      "Passo 0: Log-Verossimilhança = -2.0794415416798357\n",
      "Passo 100: Log-Verossimilhança = -0.0020015705789453234\n",
      "Passo 200: Log-Verossimilhança = -0.0019649764056144264\n",
      "Passo 300: Log-Verossimilhança = -0.0019296957250620928\n",
      "Passo 400: Log-Verossimilhança = -0.00189565908468944\n",
      "Passo 500: Log-Verossimilhança = -0.0018628018426403191\n",
      "Passo 600: Log-Verossimilhança = -0.0018310637584210787\n",
      "Passo 700: Log-Verossimilhança = -0.001800388624627037\n",
      "Passo 800: Log-Verossimilhança = -0.001770723935031016\n",
      "Passo 900: Log-Verossimilhança = -0.0017420205849151187\n",
      "Coeficientes finais (beta): [-0.05362755  2.18115971 -0.76835557]\n"
     ]
    }
   ],
   "source": [
    "import numpy as np\n",
    "import pandas as pd\n",
    "\n",
    "dados = {'idade': [25, 35, 45],  # idade\n",
    "         'peso': [80, 90, 100],  # peso\n",
    "         'diabetes': [0, 1, 1]}  # tem diabetes (0 ou 1)\n",
    "\n",
    "df = pd.DataFrame(dados)\n",
    "\n",
    "# Adicionando a coluna de bias (intercepto)\n",
    "df['intercepto'] = 1\n",
    "\n",
    "# Função para calcular Z (produto entre X e beta)\n",
    "def z(X, beta):\n",
    "    return np.dot(X, beta)\n",
    "\n",
    "# Função sigmoide\n",
    "def prob_sigmoide(z):\n",
    "    return 1 / (1 + np.exp(-z))\n",
    "\n",
    "# Função de verossimilhança\n",
    "def verossimilhanca(y, sigmoide):\n",
    "    return np.sum(y * np.log(sigmoide) + (1 - y) * np.log(1 - sigmoide))\n",
    "\n",
    "# Gradiente da verossimilhança\n",
    "def gradiente_vero(sigmoide, X, y):\n",
    "    erro = y - sigmoide\n",
    "    gradiente = np.dot(X.T, erro)\n",
    "    return gradiente\n",
    "\n",
    "# Função de atualização de beta (gradiente descendente)\n",
    "def atualizacao_beta(X, y, beta_inicial, taxa_aprendizado, num_passos):\n",
    "    beta = beta_inicial\n",
    "    for passo in range(num_passos):\n",
    "        z_valor = z(X, beta)  # Calcula Z\n",
    "        previsao = prob_sigmoide(z_valor)  # Calcula a probabilidade com a função sigmoide\n",
    "        grad = gradiente_vero(previsao, X, y)  # Calcula o gradiente da verossimilhança\n",
    "        \n",
    "        beta += taxa_aprendizado * grad  # Atualiza os parâmetros beta\n",
    "        \n",
    "        if passo % 100 == 0:\n",
    "            ll = verossimilhanca(y, previsao)  # Calcula a verossimilhança\n",
    "            print(f\"Passo {passo}: Log-Verossimilhança = {ll}\")\n",
    "    \n",
    "    return beta\n",
    "\n",
    "# Preparando os dados\n",
    "X = df[['intercepto', 'idade', 'peso']].values  # Inclui o intercepto (coluna de 1's)\n",
    "y = df['diabetes'].values\n",
    "\n",
    "# Valores iniciais de beta\n",
    "beta_inicial = np.zeros(X.shape[1])\n",
    "\n",
    "# Definindo os parâmetros do gradiente descendente\n",
    "taxa_aprendizado = 0.01\n",
    "num_passos = 1000\n",
    "\n",
    "# Executando o gradiente descendente\n",
    "beta_final = atualizacao_beta(X, y, beta_inicial, taxa_aprendizado, num_passos)\n",
    "\n",
    "print(\"Coeficientes finais (beta):\", beta_final)\n"
   ]
  }
 ],
 "metadata": {
  "kernelspec": {
   "display_name": "Python 3",
   "language": "python",
   "name": "python3"
  },
  "language_info": {
   "codemirror_mode": {
    "name": "ipython",
    "version": 3
   },
   "file_extension": ".py",
   "mimetype": "text/x-python",
   "name": "python",
   "nbconvert_exporter": "python",
   "pygments_lexer": "ipython3",
   "version": "3.10.6"
  }
 },
 "nbformat": 4,
 "nbformat_minor": 2
}
